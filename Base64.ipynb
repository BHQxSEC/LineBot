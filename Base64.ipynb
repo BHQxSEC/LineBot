{
 "cells": [
  {
   "cell_type": "code",
   "execution_count": null,
   "id": "bcbd5bb0",
   "metadata": {},
   "outputs": [
    {
     "name": "stdout",
     "output_type": "stream",
     "text": [
      "Base64 code saved to mybot.txt\n"
     ]
    }
   ],
   "source": [
    "import base64\n",
    "\n",
    "\n",
    "with open(r\"\") as f:\n",
    "    code_bytes = f.read()\n",
    "\n",
    "\n",
    "encoded = base64.b64encode(code_bytes).decode(\"utf-8\")\n",
    "\n",
    "\n",
    "with open(\"mybot.txt\", \"w\") as f:\n",
    "    f.write(encoded)\n",
    "\n",
    "print(\"Base64 code saved to mybot.txt\")"
   ]
  },
  {
   "cell_type": "code",
   "execution_count": null,
   "id": "5847a06e",
   "metadata": {},
   "outputs": [],
   "source": [
    "import base64\n",
    "\n",
    "\n",
    "with open(\"mybot.txt\", \"r\") as f:\n",
    "    encoded = f.read()\n",
    "\n",
    "decoded_bytes = base64.b64decode(encoded)\n",
    "\n",
    "with open(\"mybot_decoded.py\", \"wb\") as f:\n",
    "    f.write(decoded_bytes)\n",
    "\n",
    "print(\"Decoded back to mybot_decoded.py\")\n"
   ]
  },
  {
   "cell_type": "code",
   "execution_count": null,
   "id": "15f29ad6",
   "metadata": {},
   "outputs": [],
   "source": [
    "# @860xxscs add me"
   ]
  }
 ],
 "metadata": {
  "kernelspec": {
   "display_name": "ECOP",
   "language": "python",
   "name": "python3"
  },
  "language_info": {
   "codemirror_mode": {
    "name": "ipython",
    "version": 3
   },
   "file_extension": ".py",
   "mimetype": "text/x-python",
   "name": "python",
   "nbconvert_exporter": "python",
   "pygments_lexer": "ipython3",
   "version": "3.12.9"
  }
 },
 "nbformat": 4,
 "nbformat_minor": 5
}
